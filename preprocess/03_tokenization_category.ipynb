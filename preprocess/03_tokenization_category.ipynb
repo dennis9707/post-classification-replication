{
 "cells": [
  {
   "cell_type": "markdown",
   "metadata": {},
   "source": [
    "# Tokenizer"
   ]
  },
  {
   "cell_type": "code",
   "execution_count": 1,
   "metadata": {},
   "outputs": [],
   "source": [
    "from transformers import LongformerTokenizer\n",
    "tokenizer = LongformerTokenizer.from_pretrained(\"allenai/longformer-base-4096\")\n",
    "tokenizer.model_max_length = 4098\n",
    "def tokenize(batch):\n",
    "    return tokenizer(batch[\"text\"], padding=True, truncation=True)"
   ]
  },
  {
   "cell_type": "code",
   "execution_count": 2,
   "metadata": {},
   "outputs": [
    {
     "name": "stderr",
     "output_type": "stream",
     "text": [
      "Using custom data configuration default-af1d68358334741e\n"
     ]
    },
    {
     "name": "stdout",
     "output_type": "stream",
     "text": [
      "Downloading and preparing dataset csv/default to /root/.cache/huggingface/datasets/csv/default-af1d68358334741e/0.0.0/6b9057d9e23d9d8a2f05b985917a0da84d70c5dae3d22ddd8a3f22fb01c69d9e...\n"
     ]
    },
    {
     "data": {
      "application/vnd.jupyter.widget-view+json": {
       "model_id": "c9b87e66ad3149dfa977ddc41b0f538f",
       "version_major": 2,
       "version_minor": 0
      },
      "text/plain": [
       "  0%|          | 0/1 [00:00<?, ?it/s]"
      ]
     },
     "metadata": {},
     "output_type": "display_data"
    },
    {
     "data": {
      "application/vnd.jupyter.widget-view+json": {
       "model_id": "13cc790492724fe9ace78893f33c9f53",
       "version_major": 2,
       "version_minor": 0
      },
      "text/plain": [
       "  0%|          | 0/1 [00:00<?, ?it/s]"
      ]
     },
     "metadata": {},
     "output_type": "display_data"
    },
    {
     "name": "stdout",
     "output_type": "stream",
     "text": [
      "Dataset csv downloaded and prepared to /root/.cache/huggingface/datasets/csv/default-af1d68358334741e/0.0.0/6b9057d9e23d9d8a2f05b985917a0da84d70c5dae3d22ddd8a3f22fb01c69d9e. Subsequent calls will reuse this data.\n"
     ]
    },
    {
     "data": {
      "application/vnd.jupyter.widget-view+json": {
       "model_id": "9675915b3b4042b5b839126b75680375",
       "version_major": 2,
       "version_minor": 0
      },
      "text/plain": [
       "  0%|          | 0/1 [00:00<?, ?it/s]"
      ]
     },
     "metadata": {},
     "output_type": "display_data"
    },
    {
     "name": "stderr",
     "output_type": "stream",
     "text": [
      "Using custom data configuration default-ba59899b4c01e30b\n"
     ]
    },
    {
     "name": "stdout",
     "output_type": "stream",
     "text": [
      "Downloading and preparing dataset csv/default to /root/.cache/huggingface/datasets/csv/default-ba59899b4c01e30b/0.0.0/6b9057d9e23d9d8a2f05b985917a0da84d70c5dae3d22ddd8a3f22fb01c69d9e...\n"
     ]
    },
    {
     "data": {
      "application/vnd.jupyter.widget-view+json": {
       "model_id": "8cc979c6fc1948b9a9509095fc7b54b4",
       "version_major": 2,
       "version_minor": 0
      },
      "text/plain": [
       "  0%|          | 0/1 [00:00<?, ?it/s]"
      ]
     },
     "metadata": {},
     "output_type": "display_data"
    },
    {
     "data": {
      "application/vnd.jupyter.widget-view+json": {
       "model_id": "2d448f0b3752465a8f4daafeac959bd2",
       "version_major": 2,
       "version_minor": 0
      },
      "text/plain": [
       "  0%|          | 0/1 [00:00<?, ?it/s]"
      ]
     },
     "metadata": {},
     "output_type": "display_data"
    },
    {
     "name": "stdout",
     "output_type": "stream",
     "text": [
      "Dataset csv downloaded and prepared to /root/.cache/huggingface/datasets/csv/default-ba59899b4c01e30b/0.0.0/6b9057d9e23d9d8a2f05b985917a0da84d70c5dae3d22ddd8a3f22fb01c69d9e. Subsequent calls will reuse this data.\n"
     ]
    },
    {
     "data": {
      "application/vnd.jupyter.widget-view+json": {
       "model_id": "6ce42ec2b16c4f77b0500d105ec45ebc",
       "version_major": 2,
       "version_minor": 0
      },
      "text/plain": [
       "  0%|          | 0/1 [00:00<?, ?it/s]"
      ]
     },
     "metadata": {},
     "output_type": "display_data"
    }
   ],
   "source": [
    "from datasets import load_dataset\n",
    "train_dataset = load_dataset('csv', data_files=['../data/03_processed.csv'])\n",
    "test_dataset = load_dataset('csv', data_files=['../data/04_02_processed_validation.csv'])"
   ]
  },
  {
   "cell_type": "code",
   "execution_count": 3,
   "metadata": {},
   "outputs": [
    {
     "data": {
      "application/vnd.jupyter.widget-view+json": {
       "model_id": "d7f4380342aa4c5099cd6ac818b438ca",
       "version_major": 2,
       "version_minor": 0
      },
      "text/plain": [
       "  0%|          | 0/1 [00:00<?, ?ba/s]"
      ]
     },
     "metadata": {},
     "output_type": "display_data"
    },
    {
     "data": {
      "application/vnd.jupyter.widget-view+json": {
       "model_id": "356657522e09421b81114c49a8aa0c7d",
       "version_major": 2,
       "version_minor": 0
      },
      "text/plain": [
       "  0%|          | 0/1 [00:00<?, ?ba/s]"
      ]
     },
     "metadata": {},
     "output_type": "display_data"
    }
   ],
   "source": [
    "train_encoded = train_dataset.map(tokenize, batched=True, batch_size=None)\n",
    "test_encoded = test_dataset.map(tokenize, batched=True, batch_size=None)"
   ]
  },
  {
   "cell_type": "code",
   "execution_count": 4,
   "metadata": {},
   "outputs": [
    {
     "data": {
      "text/plain": [
       "DatasetDict({\n",
       "    train: Dataset({\n",
       "        features: ['id', 'text', 'API_CHANGE', 'API_USAGE', 'CONCEPTUAL', 'DISCREPANCY', 'DOCUMENTATION', 'ERRORS', 'REVIEW', 'input_ids', 'attention_mask'],\n",
       "        num_rows: 1000\n",
       "    })\n",
       "})"
      ]
     },
     "execution_count": 4,
     "metadata": {},
     "output_type": "execute_result"
    }
   ],
   "source": [
    "train_encoded"
   ]
  },
  {
   "cell_type": "markdown",
   "metadata": {},
   "source": [
    "# API-Change"
   ]
  },
  {
   "cell_type": "code",
   "execution_count": 10,
   "metadata": {},
   "outputs": [],
   "source": [
    "# API_CHANGE,API_USAGE,CONCEPTUAL,DISCREPANCY,DOCUMENTATION,ERRORS,REVIEW"
   ]
  },
  {
   "cell_type": "code",
   "execution_count": 5,
   "metadata": {},
   "outputs": [
    {
     "name": "stdout",
     "output_type": "stream",
     "text": [
      "DatasetDict({\n",
      "    train: Dataset({\n",
      "        features: ['label', 'input_ids', 'attention_mask'],\n",
      "        num_rows: 1000\n",
      "    })\n",
      "})\n",
      "DatasetDict({\n",
      "    train: Dataset({\n",
      "        features: ['label', 'input_ids', 'attention_mask'],\n",
      "        num_rows: 110\n",
      "    })\n",
      "})\n"
     ]
    }
   ],
   "source": [
    "change_train = train_encoded\n",
    "change_test = test_encoded\n",
    "change_train = change_train.rename_column(\"API_CHANGE\",\"label\")\n",
    "change_train = change_train.remove_columns(['API_USAGE', 'CONCEPTUAL', 'DISCREPANCY', 'DOCUMENTATION', 'ERRORS', 'REVIEW','id','text'])\n",
    "change_test = change_test.rename_column(\"API_CHANGE\",\"label\")\n",
    "change_test = change_test.remove_columns(['API_USAGE', 'CONCEPTUAL', 'DISCREPANCY', 'DOCUMENTATION', 'ERRORS', 'REVIEW','id','text'])\n",
    "print(change_train)\n",
    "print(change_test)\n",
    "\n",
    "import torch\n",
    "torch.save(change_train, \"../data/train/change\")\n",
    "torch.save(change_test, \"../data/test/change\")"
   ]
  },
  {
   "cell_type": "code",
   "execution_count": 6,
   "metadata": {},
   "outputs": [
    {
     "name": "stdout",
     "output_type": "stream",
     "text": [
      "DatasetDict({\n",
      "    train: Dataset({\n",
      "        features: ['label', 'input_ids', 'attention_mask'],\n",
      "        num_rows: 1000\n",
      "    })\n",
      "})\n",
      "DatasetDict({\n",
      "    train: Dataset({\n",
      "        features: ['label', 'input_ids', 'attention_mask'],\n",
      "        num_rows: 110\n",
      "    })\n",
      "})\n"
     ]
    }
   ],
   "source": [
    "# Usage\n",
    "usage_train = train_encoded\n",
    "usage_test = test_encoded\n",
    "usage_train = usage_train.rename_column(\"API_USAGE\",\"label\")\n",
    "usage_train = usage_train.remove_columns(['API_CHANGE', 'CONCEPTUAL', 'DISCREPANCY', 'DOCUMENTATION', 'ERRORS', 'REVIEW','id','text'])\n",
    "usage_test = usage_test.rename_column(\"API_USAGE\",\"label\")\n",
    "usage_test = usage_test.remove_columns(['API_CHANGE', 'CONCEPTUAL', 'DISCREPANCY', 'DOCUMENTATION', 'ERRORS', 'REVIEW','id','text'])\n",
    "print(usage_train)\n",
    "print(usage_test)\n",
    "\n",
    "import torch\n",
    "torch.save(usage_train, \"../data/train/usage\")\n",
    "torch.save(usage_test, \"../data/test/usage\")"
   ]
  },
  {
   "cell_type": "code",
   "execution_count": 7,
   "metadata": {},
   "outputs": [
    {
     "name": "stdout",
     "output_type": "stream",
     "text": [
      "DatasetDict({\n",
      "    train: Dataset({\n",
      "        features: ['label', 'input_ids', 'attention_mask'],\n",
      "        num_rows: 1000\n",
      "    })\n",
      "})\n",
      "DatasetDict({\n",
      "    train: Dataset({\n",
      "        features: ['label', 'input_ids', 'attention_mask'],\n",
      "        num_rows: 110\n",
      "    })\n",
      "})\n"
     ]
    }
   ],
   "source": [
    "# concep\n",
    "usage_train = train_encoded\n",
    "usage_test = test_encoded\n",
    "usage_train = usage_train.rename_column(\"CONCEPTUAL\",\"label\")\n",
    "usage_train = usage_train.remove_columns(['API_CHANGE', 'API_USAGE', 'DISCREPANCY', 'DOCUMENTATION', 'ERRORS', 'REVIEW','id','text'])\n",
    "usage_test = usage_test.rename_column(\"CONCEPTUAL\",\"label\")\n",
    "usage_test = usage_test.remove_columns(['API_CHANGE', 'API_USAGE', 'DISCREPANCY', 'DOCUMENTATION', 'ERRORS', 'REVIEW','id','text'])\n",
    "print(usage_train)\n",
    "print(usage_test)\n",
    "\n",
    "import torch\n",
    "torch.save(usage_train, \"../data/train/concep\")\n",
    "torch.save(usage_test, \"../data/test/concep\")"
   ]
  },
  {
   "cell_type": "code",
   "execution_count": 8,
   "metadata": {},
   "outputs": [
    {
     "name": "stdout",
     "output_type": "stream",
     "text": [
      "DatasetDict({\n",
      "    train: Dataset({\n",
      "        features: ['label', 'input_ids', 'attention_mask'],\n",
      "        num_rows: 1000\n",
      "    })\n",
      "})\n",
      "DatasetDict({\n",
      "    train: Dataset({\n",
      "        features: ['label', 'input_ids', 'attention_mask'],\n",
      "        num_rows: 110\n",
      "    })\n",
      "})\n"
     ]
    }
   ],
   "source": [
    "# DISCREPANCY\n",
    "usage_train = train_encoded\n",
    "usage_test = test_encoded\n",
    "usage_train = usage_train.rename_column(\"DISCREPANCY\",\"label\")\n",
    "usage_train = usage_train.remove_columns(['API_CHANGE', 'API_USAGE', 'CONCEPTUAL', 'DOCUMENTATION', 'ERRORS', 'REVIEW','id','text'])\n",
    "usage_test = usage_test.rename_column(\"DISCREPANCY\",\"label\")\n",
    "usage_test = usage_test.remove_columns(['API_CHANGE', 'API_USAGE', 'CONCEPTUAL', 'DOCUMENTATION', 'ERRORS', 'REVIEW','id','text'])\n",
    "print(usage_train)\n",
    "print(usage_test)\n",
    "\n",
    "import torch\n",
    "torch.save(usage_train, \"../data/train/discrep\")\n",
    "torch.save(usage_test, \"../data/test/discrep\")"
   ]
  },
  {
   "cell_type": "code",
   "execution_count": 9,
   "metadata": {},
   "outputs": [
    {
     "name": "stdout",
     "output_type": "stream",
     "text": [
      "DatasetDict({\n",
      "    train: Dataset({\n",
      "        features: ['label', 'input_ids', 'attention_mask'],\n",
      "        num_rows: 1000\n",
      "    })\n",
      "})\n",
      "DatasetDict({\n",
      "    train: Dataset({\n",
      "        features: ['label', 'input_ids', 'attention_mask'],\n",
      "        num_rows: 110\n",
      "    })\n",
      "})\n"
     ]
    }
   ],
   "source": [
    "# DOCUMENTATION\n",
    "usage_train = train_encoded\n",
    "usage_test = test_encoded\n",
    "usage_train = usage_train.rename_column(\"DOCUMENTATION\",\"label\")\n",
    "usage_train = usage_train.remove_columns(['API_CHANGE', 'API_USAGE', 'CONCEPTUAL', 'DISCREPANCY', 'ERRORS', 'REVIEW','id','text'])\n",
    "usage_test = usage_test.rename_column(\"DOCUMENTATION\",\"label\")\n",
    "usage_test = usage_test.remove_columns(['API_CHANGE', 'API_USAGE', 'CONCEPTUAL', 'DISCREPANCY', 'ERRORS', 'REVIEW','id','text'])\n",
    "print(usage_train)\n",
    "print(usage_test)\n",
    "\n",
    "import torch\n",
    "torch.save(usage_train, \"../data/train/docs\")\n",
    "torch.save(usage_test, \"../data/test/docs\")"
   ]
  },
  {
   "cell_type": "code",
   "execution_count": 10,
   "metadata": {},
   "outputs": [
    {
     "name": "stdout",
     "output_type": "stream",
     "text": [
      "DatasetDict({\n",
      "    train: Dataset({\n",
      "        features: ['label', 'input_ids', 'attention_mask'],\n",
      "        num_rows: 1000\n",
      "    })\n",
      "})\n",
      "DatasetDict({\n",
      "    train: Dataset({\n",
      "        features: ['label', 'input_ids', 'attention_mask'],\n",
      "        num_rows: 110\n",
      "    })\n",
      "})\n"
     ]
    }
   ],
   "source": [
    "# ERRORS\n",
    "usage_train = train_encoded\n",
    "usage_test = test_encoded\n",
    "usage_train = usage_train.rename_column(\"ERRORS\",\"label\")\n",
    "usage_train = usage_train.remove_columns(['API_CHANGE', 'API_USAGE', 'CONCEPTUAL', 'DISCREPANCY', 'DOCUMENTATION', 'REVIEW','id','text'])\n",
    "usage_test = usage_test.rename_column(\"ERRORS\",\"label\")\n",
    "usage_test = usage_test.remove_columns(['API_CHANGE', 'API_USAGE', 'CONCEPTUAL', 'DISCREPANCY', 'DOCUMENTATION', 'REVIEW','id','text'])\n",
    "print(usage_train)\n",
    "print(usage_test)\n",
    "\n",
    "import torch\n",
    "torch.save(usage_train, \"../data/train/errors\")\n",
    "torch.save(usage_test, \"../data/test/errors\")"
   ]
  },
  {
   "cell_type": "code",
   "execution_count": 11,
   "metadata": {},
   "outputs": [
    {
     "name": "stdout",
     "output_type": "stream",
     "text": [
      "DatasetDict({\n",
      "    train: Dataset({\n",
      "        features: ['label', 'input_ids', 'attention_mask'],\n",
      "        num_rows: 1000\n",
      "    })\n",
      "})\n",
      "DatasetDict({\n",
      "    train: Dataset({\n",
      "        features: ['label', 'input_ids', 'attention_mask'],\n",
      "        num_rows: 110\n",
      "    })\n",
      "})\n"
     ]
    }
   ],
   "source": [
    "# REVIEW\n",
    "usage_train = train_encoded\n",
    "usage_test = test_encoded\n",
    "usage_train = usage_train.rename_column(\"REVIEW\",\"label\")\n",
    "usage_train = usage_train.remove_columns(['API_CHANGE', 'API_USAGE', 'CONCEPTUAL', 'DISCREPANCY', 'DOCUMENTATION', 'ERRORS','id','text'])\n",
    "usage_test = usage_test.rename_column(\"REVIEW\",\"label\")\n",
    "usage_test = usage_test.remove_columns(['API_CHANGE', 'API_USAGE', 'CONCEPTUAL', 'DISCREPANCY', 'DOCUMENTATION', 'ERRORS','id','text'])\n",
    "print(usage_train)\n",
    "print(usage_test)\n",
    "\n",
    "import torch\n",
    "torch.save(usage_train, \"../data/train/review\")\n",
    "torch.save(usage_test, \"../data/test/review\")"
   ]
  },
  {
   "cell_type": "code",
   "execution_count": null,
   "metadata": {},
   "outputs": [],
   "source": []
  }
 ],
 "metadata": {
  "interpreter": {
   "hash": "d4d1e4263499bec80672ea0156c357c1ee493ec2b1c70f0acce89fc37c4a6abe"
  },
  "kernelspec": {
   "display_name": "Python 3.6.13 ('base')",
   "language": "python",
   "name": "python3"
  },
  "language_info": {
   "codemirror_mode": {
    "name": "ipython",
    "version": 3
   },
   "file_extension": ".py",
   "mimetype": "text/x-python",
   "name": "python",
   "nbconvert_exporter": "python",
   "pygments_lexer": "ipython3",
   "version": "3.6.13"
  },
  "orig_nbformat": 4
 },
 "nbformat": 4,
 "nbformat_minor": 2
}
