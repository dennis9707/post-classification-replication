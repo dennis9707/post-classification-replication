{
 "cells": [
  {
   "cell_type": "markdown",
   "metadata": {},
   "source": [
    "# Tokenizer"
   ]
  },
  {
   "cell_type": "code",
   "execution_count": 1,
   "metadata": {},
   "outputs": [
    {
     "data": {
      "application/vnd.jupyter.widget-view+json": {
       "model_id": "79d5302e2d2f4caeb961c569f5ccb025",
       "version_major": 2,
       "version_minor": 0
      },
      "text/plain": [
       "Downloading:   0%|          | 0.00/878k [00:00<?, ?B/s]"
      ]
     },
     "metadata": {},
     "output_type": "display_data"
    },
    {
     "data": {
      "application/vnd.jupyter.widget-view+json": {
       "model_id": "97ef5b38535548eba71d7469ed8bd45a",
       "version_major": 2,
       "version_minor": 0
      },
      "text/plain": [
       "Downloading:   0%|          | 0.00/446k [00:00<?, ?B/s]"
      ]
     },
     "metadata": {},
     "output_type": "display_data"
    },
    {
     "data": {
      "application/vnd.jupyter.widget-view+json": {
       "model_id": "657cadd4a28e413a83cbd14f290a9c73",
       "version_major": 2,
       "version_minor": 0
      },
      "text/plain": [
       "Downloading:   0%|          | 0.00/1.29M [00:00<?, ?B/s]"
      ]
     },
     "metadata": {},
     "output_type": "display_data"
    },
    {
     "data": {
      "application/vnd.jupyter.widget-view+json": {
       "model_id": "9713ea9695aa4be4b108891ea57c6819",
       "version_major": 2,
       "version_minor": 0
      },
      "text/plain": [
       "Downloading:   0%|          | 0.00/694 [00:00<?, ?B/s]"
      ]
     },
     "metadata": {},
     "output_type": "display_data"
    }
   ],
   "source": [
    "from transformers import LongformerTokenizer\n",
    "tokenizer = LongformerTokenizer.from_pretrained(\"allenai/longformer-base-4096\")\n",
    "tokenizer.model_max_length = 4098\n",
    "def tokenize(batch):\n",
    "    return tokenizer(batch[\"text\"], padding=True, truncation=True)"
   ]
  },
  {
   "cell_type": "code",
   "execution_count": 4,
   "metadata": {},
   "outputs": [
    {
     "name": "stderr",
     "output_type": "stream",
     "text": [
      "Using custom data configuration default-72349902b22f27a6\n"
     ]
    },
    {
     "name": "stdout",
     "output_type": "stream",
     "text": [
      "Downloading and preparing dataset csv/default to /root/.cache/huggingface/datasets/csv/default-72349902b22f27a6/0.0.0/6b9057d9e23d9d8a2f05b985917a0da84d70c5dae3d22ddd8a3f22fb01c69d9e...\n"
     ]
    },
    {
     "data": {
      "application/vnd.jupyter.widget-view+json": {
       "model_id": "f5256d3ebe4b4ff7856275191da9150d",
       "version_major": 2,
       "version_minor": 0
      },
      "text/plain": [
       "  0%|          | 0/1 [00:00<?, ?it/s]"
      ]
     },
     "metadata": {},
     "output_type": "display_data"
    },
    {
     "data": {
      "application/vnd.jupyter.widget-view+json": {
       "model_id": "7bf78e14d02946de94326a1fabf52bfd",
       "version_major": 2,
       "version_minor": 0
      },
      "text/plain": [
       "  0%|          | 0/1 [00:00<?, ?it/s]"
      ]
     },
     "metadata": {},
     "output_type": "display_data"
    },
    {
     "name": "stdout",
     "output_type": "stream",
     "text": [
      "Dataset csv downloaded and prepared to /root/.cache/huggingface/datasets/csv/default-72349902b22f27a6/0.0.0/6b9057d9e23d9d8a2f05b985917a0da84d70c5dae3d22ddd8a3f22fb01c69d9e. Subsequent calls will reuse this data.\n"
     ]
    },
    {
     "data": {
      "application/vnd.jupyter.widget-view+json": {
       "model_id": "cb6f646401e0487ea18cc4239bbe2833",
       "version_major": 2,
       "version_minor": 0
      },
      "text/plain": [
       "  0%|          | 0/1 [00:00<?, ?it/s]"
      ]
     },
     "metadata": {},
     "output_type": "display_data"
    },
    {
     "name": "stderr",
     "output_type": "stream",
     "text": [
      "Using custom data configuration default-f4dc6c086d2dbb1f\n"
     ]
    },
    {
     "name": "stdout",
     "output_type": "stream",
     "text": [
      "Downloading and preparing dataset csv/default to /root/.cache/huggingface/datasets/csv/default-f4dc6c086d2dbb1f/0.0.0/6b9057d9e23d9d8a2f05b985917a0da84d70c5dae3d22ddd8a3f22fb01c69d9e...\n"
     ]
    },
    {
     "data": {
      "application/vnd.jupyter.widget-view+json": {
       "model_id": "011798de7429459da7e62c0e2e6e1e7c",
       "version_major": 2,
       "version_minor": 0
      },
      "text/plain": [
       "  0%|          | 0/1 [00:00<?, ?it/s]"
      ]
     },
     "metadata": {},
     "output_type": "display_data"
    },
    {
     "data": {
      "application/vnd.jupyter.widget-view+json": {
       "model_id": "b31ed5f249b04c339593cee5eb2e81d5",
       "version_major": 2,
       "version_minor": 0
      },
      "text/plain": [
       "  0%|          | 0/1 [00:00<?, ?it/s]"
      ]
     },
     "metadata": {},
     "output_type": "display_data"
    },
    {
     "name": "stdout",
     "output_type": "stream",
     "text": [
      "Dataset csv downloaded and prepared to /root/.cache/huggingface/datasets/csv/default-f4dc6c086d2dbb1f/0.0.0/6b9057d9e23d9d8a2f05b985917a0da84d70c5dae3d22ddd8a3f22fb01c69d9e. Subsequent calls will reuse this data.\n"
     ]
    },
    {
     "data": {
      "application/vnd.jupyter.widget-view+json": {
       "model_id": "26e98b4cce42400d83a48e09d6786b73",
       "version_major": 2,
       "version_minor": 0
      },
      "text/plain": [
       "  0%|          | 0/1 [00:00<?, ?it/s]"
      ]
     },
     "metadata": {},
     "output_type": "display_data"
    }
   ],
   "source": [
    "from datasets import load_dataset\n",
    "train_dataset = load_dataset('csv', data_files=['../data/41_train.csv'])\n",
    "test_dataset = load_dataset('csv', data_files=['../data/42_test.csv'])"
   ]
  },
  {
   "cell_type": "code",
   "execution_count": 7,
   "metadata": {},
   "outputs": [
    {
     "data": {
      "application/vnd.jupyter.widget-view+json": {
       "model_id": "dbdebb6af78c4b12ba0efb7441cbce60",
       "version_major": 2,
       "version_minor": 0
      },
      "text/plain": [
       "  0%|          | 0/1 [00:00<?, ?ba/s]"
      ]
     },
     "metadata": {},
     "output_type": "display_data"
    },
    {
     "data": {
      "application/vnd.jupyter.widget-view+json": {
       "model_id": "91a41ccd600e41bc97c344b174b43778",
       "version_major": 2,
       "version_minor": 0
      },
      "text/plain": [
       "  0%|          | 0/1 [00:00<?, ?ba/s]"
      ]
     },
     "metadata": {},
     "output_type": "display_data"
    }
   ],
   "source": [
    "train_encoded = train_dataset.map(tokenize, batched=True, batch_size=None)\n",
    "test_encoded = test_dataset.map(tokenize, batched=True, batch_size=None)"
   ]
  },
  {
   "cell_type": "code",
   "execution_count": 12,
   "metadata": {},
   "outputs": [
    {
     "data": {
      "text/plain": [
       "DatasetDict({\n",
       "    train: Dataset({\n",
       "        features: ['id', 'text', 'API_CHANGE', 'API_USAGE', 'CONCEPTUAL', 'DISCREPANCY', 'DOCUMENTATION', 'ERRORS', 'REVIEW', 'input_ids', 'attention_mask'],\n",
       "        num_rows: 450\n",
       "    })\n",
       "})"
      ]
     },
     "execution_count": 12,
     "metadata": {},
     "output_type": "execute_result"
    }
   ],
   "source": [
    "train_encoded"
   ]
  },
  {
   "cell_type": "markdown",
   "metadata": {},
   "source": [
    "# API-Change"
   ]
  },
  {
   "cell_type": "code",
   "execution_count": 10,
   "metadata": {},
   "outputs": [],
   "source": [
    "# API_CHANGE,API_USAGE,CONCEPTUAL,DISCREPANCY,DOCUMENTATION,ERRORS,REVIEW"
   ]
  },
  {
   "cell_type": "code",
   "execution_count": 17,
   "metadata": {},
   "outputs": [],
   "source": [
    "change_train = train_encoded\n",
    "change_test = test_encoded\n",
    "change_train = change_train.rename_column(\"API_CHANGE\",\"label\")\n",
    "change_train = change_train.remove_columns(['API_USAGE', 'CONCEPTUAL', 'DISCREPANCY', 'DOCUMENTATION', 'ERRORS', 'REVIEW','id','text'])\n",
    "change_test = change_test.rename_column(\"API_CHANGE\",\"label\")\n",
    "change_test = change_test.remove_columns(['API_USAGE', 'CONCEPTUAL', 'DISCREPANCY', 'DOCUMENTATION', 'ERRORS', 'REVIEW','id','text'])\n",
    "print(change_train)\n",
    "print(change_test)\n",
    "\n",
    "import torch\n",
    "torch.save(change_train, \"../data/train/change\")\n",
    "torch.save(change_test, \"../data/test/change\")"
   ]
  },
  {
   "cell_type": "code",
   "execution_count": 27,
   "metadata": {},
   "outputs": [
    {
     "name": "stdout",
     "output_type": "stream",
     "text": [
      "DatasetDict({\n",
      "    train: Dataset({\n",
      "        features: ['label', 'input_ids', 'attention_mask'],\n",
      "        num_rows: 450\n",
      "    })\n",
      "})\n",
      "DatasetDict({\n",
      "    train: Dataset({\n",
      "        features: ['label', 'input_ids', 'attention_mask'],\n",
      "        num_rows: 50\n",
      "    })\n",
      "})\n"
     ]
    }
   ],
   "source": [
    "# Usage\n",
    "usage_train = train_encoded\n",
    "usage_test = test_encoded\n",
    "usage_train = usage_train.rename_column(\"API_USAGE\",\"label\")\n",
    "usage_train = usage_train.remove_columns(['API_CHANGE', 'CONCEPTUAL', 'DISCREPANCY', 'DOCUMENTATION', 'ERRORS', 'REVIEW','id','text'])\n",
    "usage_test = usage_test.rename_column(\"API_USAGE\",\"label\")\n",
    "usage_test = usage_test.remove_columns(['API_CHANGE', 'CONCEPTUAL', 'DISCREPANCY', 'DOCUMENTATION', 'ERRORS', 'REVIEW','id','text'])\n",
    "print(usage_train)\n",
    "print(usage_test)\n",
    "\n",
    "import torch\n",
    "torch.save(usage_train, \"../data/train/usage\")\n",
    "torch.save(usage_test, \"../data/test/usage\")"
   ]
  },
  {
   "cell_type": "code",
   "execution_count": 28,
   "metadata": {},
   "outputs": [
    {
     "name": "stdout",
     "output_type": "stream",
     "text": [
      "DatasetDict({\n",
      "    train: Dataset({\n",
      "        features: ['label', 'input_ids', 'attention_mask'],\n",
      "        num_rows: 450\n",
      "    })\n",
      "})\n",
      "DatasetDict({\n",
      "    train: Dataset({\n",
      "        features: ['label', 'input_ids', 'attention_mask'],\n",
      "        num_rows: 50\n",
      "    })\n",
      "})\n"
     ]
    }
   ],
   "source": [
    "# concep\n",
    "usage_train = train_encoded\n",
    "usage_test = test_encoded\n",
    "usage_train = usage_train.rename_column(\"CONCEPTUAL\",\"label\")\n",
    "usage_train = usage_train.remove_columns(['API_CHANGE', 'API_USAGE', 'DISCREPANCY', 'DOCUMENTATION', 'ERRORS', 'REVIEW','id','text'])\n",
    "usage_test = usage_test.rename_column(\"CONCEPTUAL\",\"label\")\n",
    "usage_test = usage_test.remove_columns(['API_CHANGE', 'API_USAGE', 'DISCREPANCY', 'DOCUMENTATION', 'ERRORS', 'REVIEW','id','text'])\n",
    "print(usage_train)\n",
    "print(usage_test)\n",
    "\n",
    "import torch\n",
    "torch.save(usage_train, \"../data/train/concep\")\n",
    "torch.save(usage_test, \"../data/test/concep\")"
   ]
  },
  {
   "cell_type": "code",
   "execution_count": 29,
   "metadata": {},
   "outputs": [
    {
     "name": "stdout",
     "output_type": "stream",
     "text": [
      "DatasetDict({\n",
      "    train: Dataset({\n",
      "        features: ['label', 'input_ids', 'attention_mask'],\n",
      "        num_rows: 450\n",
      "    })\n",
      "})\n",
      "DatasetDict({\n",
      "    train: Dataset({\n",
      "        features: ['label', 'input_ids', 'attention_mask'],\n",
      "        num_rows: 50\n",
      "    })\n",
      "})\n"
     ]
    }
   ],
   "source": [
    "# DISCREPANCY\n",
    "usage_train = train_encoded\n",
    "usage_test = test_encoded\n",
    "usage_train = usage_train.rename_column(\"DISCREPANCY\",\"label\")\n",
    "usage_train = usage_train.remove_columns(['API_CHANGE', 'API_USAGE', 'CONCEPTUAL', 'DOCUMENTATION', 'ERRORS', 'REVIEW','id','text'])\n",
    "usage_test = usage_test.rename_column(\"DISCREPANCY\",\"label\")\n",
    "usage_test = usage_test.remove_columns(['API_CHANGE', 'API_USAGE', 'CONCEPTUAL', 'DOCUMENTATION', 'ERRORS', 'REVIEW','id','text'])\n",
    "print(usage_train)\n",
    "print(usage_test)\n",
    "\n",
    "import torch\n",
    "torch.save(usage_train, \"../data/train/discrep\")\n",
    "torch.save(usage_test, \"../data/test/discrep\")"
   ]
  },
  {
   "cell_type": "code",
   "execution_count": 30,
   "metadata": {},
   "outputs": [
    {
     "name": "stdout",
     "output_type": "stream",
     "text": [
      "DatasetDict({\n",
      "    train: Dataset({\n",
      "        features: ['label', 'input_ids', 'attention_mask'],\n",
      "        num_rows: 450\n",
      "    })\n",
      "})\n",
      "DatasetDict({\n",
      "    train: Dataset({\n",
      "        features: ['label', 'input_ids', 'attention_mask'],\n",
      "        num_rows: 50\n",
      "    })\n",
      "})\n"
     ]
    }
   ],
   "source": [
    "# DOCUMENTATION\n",
    "usage_train = train_encoded\n",
    "usage_test = test_encoded\n",
    "usage_train = usage_train.rename_column(\"DOCUMENTATION\",\"label\")\n",
    "usage_train = usage_train.remove_columns(['API_CHANGE', 'API_USAGE', 'CONCEPTUAL', 'DISCREPANCY', 'ERRORS', 'REVIEW','id','text'])\n",
    "usage_test = usage_test.rename_column(\"DOCUMENTATION\",\"label\")\n",
    "usage_test = usage_test.remove_columns(['API_CHANGE', 'API_USAGE', 'CONCEPTUAL', 'DISCREPANCY', 'ERRORS', 'REVIEW','id','text'])\n",
    "print(usage_train)\n",
    "print(usage_test)\n",
    "\n",
    "import torch\n",
    "torch.save(usage_train, \"../data/train/docs\")\n",
    "torch.save(usage_test, \"../data/test/docs\")"
   ]
  },
  {
   "cell_type": "code",
   "execution_count": 31,
   "metadata": {},
   "outputs": [
    {
     "name": "stdout",
     "output_type": "stream",
     "text": [
      "DatasetDict({\n",
      "    train: Dataset({\n",
      "        features: ['label', 'input_ids', 'attention_mask'],\n",
      "        num_rows: 450\n",
      "    })\n",
      "})\n",
      "DatasetDict({\n",
      "    train: Dataset({\n",
      "        features: ['label', 'input_ids', 'attention_mask'],\n",
      "        num_rows: 50\n",
      "    })\n",
      "})\n"
     ]
    }
   ],
   "source": [
    "# ERRORS\n",
    "usage_train = train_encoded\n",
    "usage_test = test_encoded\n",
    "usage_train = usage_train.rename_column(\"ERRORS\",\"label\")\n",
    "usage_train = usage_train.remove_columns(['API_CHANGE', 'API_USAGE', 'CONCEPTUAL', 'DISCREPANCY', 'DOCUMENTATION', 'REVIEW','id','text'])\n",
    "usage_test = usage_test.rename_column(\"ERRORS\",\"label\")\n",
    "usage_test = usage_test.remove_columns(['API_CHANGE', 'API_USAGE', 'CONCEPTUAL', 'DISCREPANCY', 'DOCUMENTATION', 'REVIEW','id','text'])\n",
    "print(usage_train)\n",
    "print(usage_test)\n",
    "\n",
    "import torch\n",
    "torch.save(usage_train, \"../data/train/errors\")\n",
    "torch.save(usage_test, \"../data/test/errors\")"
   ]
  },
  {
   "cell_type": "code",
   "execution_count": 32,
   "metadata": {},
   "outputs": [
    {
     "name": "stdout",
     "output_type": "stream",
     "text": [
      "DatasetDict({\n",
      "    train: Dataset({\n",
      "        features: ['label', 'input_ids', 'attention_mask'],\n",
      "        num_rows: 450\n",
      "    })\n",
      "})\n",
      "DatasetDict({\n",
      "    train: Dataset({\n",
      "        features: ['label', 'input_ids', 'attention_mask'],\n",
      "        num_rows: 50\n",
      "    })\n",
      "})\n"
     ]
    }
   ],
   "source": [
    "# REVIEW\n",
    "usage_train = train_encoded\n",
    "usage_test = test_encoded\n",
    "usage_train = usage_train.rename_column(\"REVIEW\",\"label\")\n",
    "usage_train = usage_train.remove_columns(['API_CHANGE', 'API_USAGE', 'CONCEPTUAL', 'DISCREPANCY', 'DOCUMENTATION', 'ERRORS','id','text'])\n",
    "usage_test = usage_test.rename_column(\"REVIEW\",\"label\")\n",
    "usage_test = usage_test.remove_columns(['API_CHANGE', 'API_USAGE', 'CONCEPTUAL', 'DISCREPANCY', 'DOCUMENTATION', 'ERRORS','id','text'])\n",
    "print(usage_train)\n",
    "print(usage_test)\n",
    "\n",
    "import torch\n",
    "torch.save(usage_train, \"../data/train/review\")\n",
    "torch.save(usage_test, \"../data/test/review\")"
   ]
  },
  {
   "cell_type": "code",
   "execution_count": null,
   "metadata": {},
   "outputs": [],
   "source": []
  }
 ],
 "metadata": {
  "interpreter": {
   "hash": "d4d1e4263499bec80672ea0156c357c1ee493ec2b1c70f0acce89fc37c4a6abe"
  },
  "kernelspec": {
   "display_name": "Python 3.6.13 ('base')",
   "language": "python",
   "name": "python3"
  },
  "language_info": {
   "codemirror_mode": {
    "name": "ipython",
    "version": 3
   },
   "file_extension": ".py",
   "mimetype": "text/x-python",
   "name": "python",
   "nbconvert_exporter": "python",
   "pygments_lexer": "ipython3",
   "version": "3.6.13"
  },
  "orig_nbformat": 4
 },
 "nbformat": 4,
 "nbformat_minor": 2
}
