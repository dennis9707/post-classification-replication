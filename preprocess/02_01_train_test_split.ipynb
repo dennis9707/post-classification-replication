{
 "cells": [
  {
   "cell_type": "code",
   "execution_count": 1,
   "metadata": {},
   "outputs": [],
   "source": [
    "import pandas as pd\n",
    "data = pd.read_csv(\"../data/04_00_validation_posts.csv\")"
   ]
  },
  {
   "cell_type": "code",
   "execution_count": 2,
   "metadata": {},
   "outputs": [
    {
     "data": {
      "text/html": [
       "<div>\n",
       "<style scoped>\n",
       "    .dataframe tbody tr th:only-of-type {\n",
       "        vertical-align: middle;\n",
       "    }\n",
       "\n",
       "    .dataframe tbody tr th {\n",
       "        vertical-align: top;\n",
       "    }\n",
       "\n",
       "    .dataframe thead th {\n",
       "        text-align: right;\n",
       "    }\n",
       "</style>\n",
       "<table border=\"1\" class=\"dataframe\">\n",
       "  <thead>\n",
       "    <tr style=\"text-align: right;\">\n",
       "      <th></th>\n",
       "      <th>id</th>\n",
       "      <th>reason</th>\n",
       "      <th>title</th>\n",
       "      <th>body</th>\n",
       "    </tr>\n",
       "  </thead>\n",
       "  <tbody>\n",
       "    <tr>\n",
       "      <th>0</th>\n",
       "      <td>22836864</td>\n",
       "      <td>DISCREPANCY</td>\n",
       "      <td>Location provider check doesn't work on Android</td>\n",
       "      <td>I'm new to Android. Now I'm learning how Locat...</td>\n",
       "    </tr>\n",
       "    <tr>\n",
       "      <th>1</th>\n",
       "      <td>22890864</td>\n",
       "      <td>API_USAGE</td>\n",
       "      <td>facebook sdk java query getting name from acto...</td>\n",
       "      <td>How do I get the name of the actor_id in the s...</td>\n",
       "    </tr>\n",
       "    <tr>\n",
       "      <th>2</th>\n",
       "      <td>22890864</td>\n",
       "      <td>CONCEPTUAL</td>\n",
       "      <td>facebook sdk java query getting name from acto...</td>\n",
       "      <td>How do I get the name of the actor_id in the s...</td>\n",
       "    </tr>\n",
       "    <tr>\n",
       "      <th>3</th>\n",
       "      <td>22905041</td>\n",
       "      <td>ERRORS</td>\n",
       "      <td>Why can't I click a Button in a ListView using...</td>\n",
       "      <td>I am a newbie to Android. I have posted this q...</td>\n",
       "    </tr>\n",
       "    <tr>\n",
       "      <th>4</th>\n",
       "      <td>23026883</td>\n",
       "      <td>CONCEPTUAL</td>\n",
       "      <td>Is there an #ifdef in Qt to determine if we're...</td>\n",
       "      <td>I have an Android-specific fix in my Qt applic...</td>\n",
       "    </tr>\n",
       "  </tbody>\n",
       "</table>\n",
       "</div>"
      ],
      "text/plain": [
       "         id       reason                                              title  \\\n",
       "0  22836864  DISCREPANCY    Location provider check doesn't work on Android   \n",
       "1  22890864    API_USAGE  facebook sdk java query getting name from acto...   \n",
       "2  22890864   CONCEPTUAL  facebook sdk java query getting name from acto...   \n",
       "3  22905041       ERRORS  Why can't I click a Button in a ListView using...   \n",
       "4  23026883   CONCEPTUAL  Is there an #ifdef in Qt to determine if we're...   \n",
       "\n",
       "                                                body  \n",
       "0  I'm new to Android. Now I'm learning how Locat...  \n",
       "1  How do I get the name of the actor_id in the s...  \n",
       "2  How do I get the name of the actor_id in the s...  \n",
       "3  I am a newbie to Android. I have posted this q...  \n",
       "4  I have an Android-specific fix in my Qt applic...  "
      ]
     },
     "execution_count": 2,
     "metadata": {},
     "output_type": "execute_result"
    }
   ],
   "source": [
    "data.head()"
   ]
  },
  {
   "cell_type": "markdown",
   "metadata": {},
   "source": []
  },
  {
   "cell_type": "markdown",
   "metadata": {},
   "source": [
    "Split Train and Test"
   ]
  },
  {
   "cell_type": "code",
   "execution_count": 3,
   "metadata": {},
   "outputs": [],
   "source": [
    "id_list = data['id'].values.tolist()\n",
    "non_dup_list = list(dict.fromkeys(id_list))"
   ]
  },
  {
   "cell_type": "code",
   "execution_count": 5,
   "metadata": {},
   "outputs": [
    {
     "data": {
      "text/plain": [
       "166"
      ]
     },
     "execution_count": 5,
     "metadata": {},
     "output_type": "execute_result"
    }
   ],
   "source": [
    "len(id_list)"
   ]
  },
  {
   "cell_type": "code",
   "execution_count": 4,
   "metadata": {},
   "outputs": [
    {
     "data": {
      "text/plain": [
       "110"
      ]
     },
     "execution_count": 4,
     "metadata": {},
     "output_type": "execute_result"
    }
   ],
   "source": [
    "len(non_dup_list)"
   ]
  },
  {
   "cell_type": "code",
   "execution_count": 8,
   "metadata": {},
   "outputs": [],
   "source": [
    "all_data = pd.read_csv(\"../data/03_processed.csv\")"
   ]
  },
  {
   "cell_type": "code",
   "execution_count": 9,
   "metadata": {},
   "outputs": [],
   "source": [
    "boolean_series = all_data.id.isin(non_dup_list)"
   ]
  },
  {
   "cell_type": "code",
   "execution_count": 10,
   "metadata": {},
   "outputs": [
    {
     "data": {
      "text/plain": [
       "0      False\n",
       "1      False\n",
       "2      False\n",
       "3      False\n",
       "4      False\n",
       "5      False\n",
       "6      False\n",
       "7      False\n",
       "8      False\n",
       "9      False\n",
       "10     False\n",
       "11     False\n",
       "12     False\n",
       "13     False\n",
       "14     False\n",
       "15     False\n",
       "16     False\n",
       "17     False\n",
       "18     False\n",
       "19     False\n",
       "20     False\n",
       "21     False\n",
       "22     False\n",
       "23     False\n",
       "24     False\n",
       "25     False\n",
       "26     False\n",
       "27     False\n",
       "28     False\n",
       "29     False\n",
       "       ...  \n",
       "970    False\n",
       "971    False\n",
       "972    False\n",
       "973    False\n",
       "974    False\n",
       "975    False\n",
       "976    False\n",
       "977    False\n",
       "978    False\n",
       "979    False\n",
       "980    False\n",
       "981    False\n",
       "982    False\n",
       "983    False\n",
       "984    False\n",
       "985    False\n",
       "986    False\n",
       "987    False\n",
       "988    False\n",
       "989    False\n",
       "990    False\n",
       "991    False\n",
       "992    False\n",
       "993    False\n",
       "994    False\n",
       "995    False\n",
       "996    False\n",
       "997    False\n",
       "998    False\n",
       "999    False\n",
       "Name: id, Length: 1000, dtype: bool"
      ]
     },
     "execution_count": 10,
     "metadata": {},
     "output_type": "execute_result"
    }
   ],
   "source": [
    "boolean_series\n"
   ]
  },
  {
   "cell_type": "code",
   "execution_count": 12,
   "metadata": {},
   "outputs": [],
   "source": [
    "filtered_df = all_data[boolean_series]"
   ]
  },
  {
   "cell_type": "code",
   "execution_count": 13,
   "metadata": {},
   "outputs": [
    {
     "data": {
      "text/html": [
       "<div>\n",
       "<style scoped>\n",
       "    .dataframe tbody tr th:only-of-type {\n",
       "        vertical-align: middle;\n",
       "    }\n",
       "\n",
       "    .dataframe tbody tr th {\n",
       "        vertical-align: top;\n",
       "    }\n",
       "\n",
       "    .dataframe thead th {\n",
       "        text-align: right;\n",
       "    }\n",
       "</style>\n",
       "<table border=\"1\" class=\"dataframe\">\n",
       "  <thead>\n",
       "    <tr style=\"text-align: right;\">\n",
       "      <th></th>\n",
       "      <th>id</th>\n",
       "      <th>text</th>\n",
       "      <th>API_CHANGE</th>\n",
       "      <th>API_USAGE</th>\n",
       "      <th>CONCEPTUAL</th>\n",
       "      <th>DISCREPANCY</th>\n",
       "      <th>DOCUMENTATION</th>\n",
       "      <th>ERRORS</th>\n",
       "      <th>REVIEW</th>\n",
       "    </tr>\n",
       "  </thead>\n",
       "  <tbody>\n",
       "  </tbody>\n",
       "</table>\n",
       "</div>"
      ],
      "text/plain": [
       "Empty DataFrame\n",
       "Columns: [id, text, API_CHANGE, API_USAGE, CONCEPTUAL, DISCREPANCY, DOCUMENTATION, ERRORS, REVIEW]\n",
       "Index: []"
      ]
     },
     "execution_count": 13,
     "metadata": {},
     "output_type": "execute_result"
    }
   ],
   "source": [
    "filtered_df"
   ]
  },
  {
   "cell_type": "code",
   "execution_count": 9,
   "metadata": {},
   "outputs": [
    {
     "name": "stdout",
     "output_type": "stream",
     "text": [
      "id                                                       602807438\n",
      "text             How to display a route between two geocoords i...\n",
      "API_CHANGE                                                       4\n",
      "API_USAGE                                                       23\n",
      "CONCEPTUAL                                                      12\n",
      "DISCREPANCY                                                      8\n",
      "DOCUMENTATION                                                    5\n",
      "ERRORS                                                          11\n",
      "REVIEW                                                           9\n",
      "dtype: object\n"
     ]
    }
   ],
   "source": [
    "# change = data.drop([\"API_CHANGE\",\"CONCEPTUAL\",\"DISCREPANCY\",\"DOCUMENTATION\", \"ERRORS\", \"REVIEW\",'id'], axis=1)\n",
    "# change = change.rename(columns={'API_USAGE':'label'})\n",
    "\n",
    "# Notice that to the necessary constrain is that the test set contains at least three posts of each category\n",
    "change = data\n",
    "from numpy.random import RandomState\n",
    "rng = RandomState()\n",
    "train = change.sample(frac=0.9, random_state=rng)\n",
    "test = change.loc[~change.index.isin(train.index)]\n",
    "print(test.sum())"
   ]
  },
  {
   "cell_type": "code",
   "execution_count": 11,
   "metadata": {},
   "outputs": [
    {
     "name": "stdout",
     "output_type": "stream",
     "text": [
      "id                                                       602807438\n",
      "text             How to display a route between two geocoords i...\n",
      "API_CHANGE                                                       4\n",
      "API_USAGE                                                       23\n",
      "CONCEPTUAL                                                      12\n",
      "DISCREPANCY                                                      8\n",
      "DOCUMENTATION                                                    5\n",
      "ERRORS                                                          11\n",
      "REVIEW                                                           9\n",
      "dtype: object\n"
     ]
    }
   ],
   "source": [
    "print(test.sum())"
   ]
  },
  {
   "cell_type": "code",
   "execution_count": 10,
   "metadata": {},
   "outputs": [],
   "source": [
    "# save new train and test\n",
    "train.to_csv(\"../data/41_train.csv\", index=False)\n",
    "test.to_csv(\"../data/42_test.csv\", index=False)"
   ]
  }
 ],
 "metadata": {
  "interpreter": {
   "hash": "d4d1e4263499bec80672ea0156c357c1ee493ec2b1c70f0acce89fc37c4a6abe"
  },
  "kernelspec": {
   "display_name": "Python 3.6.13 ('base')",
   "language": "python",
   "name": "python3"
  },
  "language_info": {
   "codemirror_mode": {
    "name": "ipython",
    "version": 3
   },
   "file_extension": ".py",
   "mimetype": "text/x-python",
   "name": "python",
   "nbconvert_exporter": "python",
   "pygments_lexer": "ipython3",
   "version": "3.6.13"
  },
  "orig_nbformat": 4
 },
 "nbformat": 4,
 "nbformat_minor": 2
}
