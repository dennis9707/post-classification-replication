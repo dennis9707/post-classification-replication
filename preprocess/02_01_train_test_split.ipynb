{
 "cells": [
  {
   "cell_type": "code",
   "execution_count": 1,
   "metadata": {},
   "outputs": [],
   "source": [
    "import pandas as pd\n",
    "data = pd.read_csv(\"../data/30_combined_text.csv\")"
   ]
  },
  {
   "cell_type": "markdown",
   "metadata": {},
   "source": []
  },
  {
   "cell_type": "markdown",
   "metadata": {},
   "source": [
    "Split Train and Test"
   ]
  },
  {
   "cell_type": "code",
   "execution_count": null,
   "metadata": {},
   "outputs": [],
   "source": [
    "# id,text,API_CHANGE,API_USAGE,CONCEPTUAL,DISCREPANCY,DOCUMENTATION,ERRORS,REVIEW"
   ]
  },
  {
   "cell_type": "code",
   "execution_count": 9,
   "metadata": {},
   "outputs": [
    {
     "name": "stdout",
     "output_type": "stream",
     "text": [
      "id                                                       602807438\n",
      "text             How to display a route between two geocoords i...\n",
      "API_CHANGE                                                       4\n",
      "API_USAGE                                                       23\n",
      "CONCEPTUAL                                                      12\n",
      "DISCREPANCY                                                      8\n",
      "DOCUMENTATION                                                    5\n",
      "ERRORS                                                          11\n",
      "REVIEW                                                           9\n",
      "dtype: object\n"
     ]
    }
   ],
   "source": [
    "# change = data.drop([\"API_CHANGE\",\"CONCEPTUAL\",\"DISCREPANCY\",\"DOCUMENTATION\", \"ERRORS\", \"REVIEW\",'id'], axis=1)\n",
    "# change = change.rename(columns={'API_USAGE':'label'})\n",
    "\n",
    "# Notice that to the necessary constrain is that the test set contains at least three posts of each category\n",
    "change = data\n",
    "from numpy.random import RandomState\n",
    "rng = RandomState()\n",
    "train = change.sample(frac=0.9, random_state=rng)\n",
    "test = change.loc[~change.index.isin(train.index)]\n",
    "print(test.sum())"
   ]
  },
  {
   "cell_type": "code",
   "execution_count": 11,
   "metadata": {},
   "outputs": [
    {
     "name": "stdout",
     "output_type": "stream",
     "text": [
      "id                                                       602807438\n",
      "text             How to display a route between two geocoords i...\n",
      "API_CHANGE                                                       4\n",
      "API_USAGE                                                       23\n",
      "CONCEPTUAL                                                      12\n",
      "DISCREPANCY                                                      8\n",
      "DOCUMENTATION                                                    5\n",
      "ERRORS                                                          11\n",
      "REVIEW                                                           9\n",
      "dtype: object\n"
     ]
    }
   ],
   "source": [
    "print(test.sum())"
   ]
  },
  {
   "cell_type": "code",
   "execution_count": 10,
   "metadata": {},
   "outputs": [],
   "source": [
    "# save new train and test\n",
    "train.to_csv(\"../data/41_train.csv\", index=False)\n",
    "test.to_csv(\"../data/42_test.csv\", index=False)"
   ]
  }
 ],
 "metadata": {
  "interpreter": {
   "hash": "d4d1e4263499bec80672ea0156c357c1ee493ec2b1c70f0acce89fc37c4a6abe"
  },
  "kernelspec": {
   "display_name": "Python 3.6.13 ('base')",
   "language": "python",
   "name": "python3"
  },
  "language_info": {
   "codemirror_mode": {
    "name": "ipython",
    "version": 3
   },
   "file_extension": ".py",
   "mimetype": "text/x-python",
   "name": "python",
   "nbconvert_exporter": "python",
   "pygments_lexer": "ipython3",
   "version": "3.6.13"
  },
  "orig_nbformat": 4
 },
 "nbformat": 4,
 "nbformat_minor": 2
}
